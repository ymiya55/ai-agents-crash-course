{
 "cells": [
  {
   "cell_type": "markdown",
   "id": "9bb0ee48",
   "metadata": {},
   "source": [
    "# Creating a Simple Agent with Tracing"
   ]
  },
  {
   "cell_type": "code",
   "execution_count": 1,
   "id": "dced13ed",
   "metadata": {},
   "outputs": [
    {
     "name": "stdout",
     "output_type": "stream",
     "text": [
      "We are up and running!\n"
     ]
    }
   ],
   "source": [
    "import dotenv\n",
    "import os\n",
    "\n",
    "from openai import OpenAI\n",
    "\n",
    "dotenv.load_dotenv()\n",
    "\n",
    "if not os.environ.get(\"OPENAI_API_KEY\"):\n",
    "    print(\n",
    "        \"\"\"Error: OPENAI_API_KEY environment variable not set. Please copy the .env.template file as .env and fill it in.\n",
    "    \n",
    "    You can execute these commands in the terminal to get started:\n",
    "    cp .env.template .env\n",
    "    code .env\n",
    "    \"\"\"\n",
    "    )\n",
    "\n",
    "# Test OpenAI Access\n",
    "print(\n",
    "    OpenAI()\n",
    "    .responses.create(\n",
    "        model=os.environ[\"OPENAI_DEFAULT_MODEL\"], input=\"Say: We are up and running!\"\n",
    "    )\n",
    "    .output_text\n",
    ")"
   ]
  },
  {
   "cell_type": "code",
   "execution_count": 3,
   "id": "afcbf0e1",
   "metadata": {},
   "outputs": [],
   "source": [
    "from agents import Agent, Runner, trace\n",
    "from openai.types.responses import ResponseTextDeltaEvent"
   ]
  },
  {
   "cell_type": "markdown",
   "id": "648facaa",
   "metadata": {},
   "source": [
    "Create a simple Nutrition Assistant Agent"
   ]
  },
  {
   "cell_type": "code",
   "execution_count": 8,
   "id": "5e542d69",
   "metadata": {},
   "outputs": [],
   "source": [
    "nutrition_agent = Agent(\n",
    "    name=\"Nutrition Assistant\",\n",
    "    instructions=\"\"\"\n",
    "    あなたは、食事を材料ごとに分解して教えてくれる、頼りになる栄養士です。簡潔な回答をしてくれます。回答には日本語を用います。\n",
    "    \"\"\"\n",
    ")"
   ]
  },
  {
   "cell_type": "markdown",
   "id": "8d30b1b1",
   "metadata": {},
   "source": [
    "Let's execute the Agent:"
   ]
  },
  {
   "cell_type": "code",
   "execution_count": 9,
   "id": "1ede6dc3",
   "metadata": {},
   "outputs": [
    {
     "name": "stdout",
     "output_type": "stream",
     "text": [
      "RunResult:\n",
      "- Last agent: Agent(name=\"Nutrition Assistant\", ...)\n",
      "- Final output (str):\n",
      "    要点だけお伝えします。\n",
      "    \n",
      "    - 主な栄養素: カリウム、食物繊維、ビタミンB6、ビタミンC、天然の糖分\n",
      "    - 一般的な栄養価（中くらいのバナナ1本約118 g）: カロリー約90 kcal、カリウム約420 mg、食物繊維約3 g、ビタミンB6約0.5 mg、ビタミンC約10 mg\n",
      "    - 健康効果: 心血管のサポート、腸内環境の改善、エネルギー源、満腹感を得やすい\n",
      "    - 注意点: 糖質が多めなので、糖質制限中は量を調整。熟度で糖の量とGIが変わる（熟バナナは糖が多く、未熟バナナはでんぷん・抗性デンプンが多くGIはやや低め）。\n",
      "    - 摂り方のコツ: 朝食の一部やヨーグルト・ナッツと組み合わせてタンパク質と脂質を加えると満腹感が持続します。\n",
      "    \n",
      "    必要であれば、1日の目標量に合わせた適切な摂取量も一緒に計算します。\n",
      "- 2 new item(s)\n",
      "- 1 raw response(s)\n",
      "- 0 input guardrail result(s)\n",
      "- 0 output guardrail result(s)\n",
      "(See `RunResult` for more details)\n"
     ]
    }
   ],
   "source": [
    "with trace(\"Simple Nutrition Agent\"):\n",
    "    result = await Runner.run(nutrition_agent, \"How healthy are bananas?\")\n",
    "\n",
    "print(result)"
   ]
  },
  {
   "cell_type": "markdown",
   "id": "eee3194d",
   "metadata": {},
   "source": [
    "Streaming the answer to the screen, token by token"
   ]
  },
  {
   "cell_type": "code",
   "execution_count": 10,
   "id": "fa70122b",
   "metadata": {},
   "outputs": [
    {
     "name": "stdout",
     "output_type": "stream",
     "text": [
      "要点でお伝えします。1本（中くらい、約118 g）の栄養例です。\n",
      "\n",
      "- カロリー: 約105 kcal\n",
      "- 炭水化物: 約27 g（うち糖質約14 g、食物繊維約3 g）\n",
      "- カリウム: 約420 mg\n",
      "- ビタミンB6: 約0.5 mg\n",
      "- ビタミンC: 約10 mg\n",
      "- その他: マグネシウム、マンガン etc.\n",
      "\n",
      "良い点\n",
      "- 心臓と血圧を整えるカリウム源\n",
      "- すばやいエネルギー源（糖質）\n",
      "- 食物繊維で腸内環境を整える\n",
      "- 抗酸化物質とビタミン類が摂取できる\n",
      "\n",
      "注意点\n",
      "- 糖質が多めなので、糖質制限や糖尿病の食事管理中は量を調整\n",
      "- 未熟なものはでんぷんが多く、熟すと糖が増える。満腹感や血糖上昇の感じ方が変わる\n",
      "\n",
      "摂り方のコツ\n",
      "- タンパク質源（ヨーグルト、ナッツ、チーズなど）と組み合わせると満足感が持続\n",
      "- 1日2本程度を目安に、熟度を用途で使い分けると良い\n",
      "\n",
      "必要なら、あなたの目的に合わせた1日分の摂取量も計算します。"
     ]
    }
   ],
   "source": [
    "response_stream = Runner.run_streamed(nutrition_agent, \"How healthy are bananas?\")\n",
    "\n",
    "async for event in response_stream.stream_events():\n",
    "    if event.type == \"raw_response_event\" and isinstance(\n",
    "        event.data, ResponseTextDeltaEvent\n",
    "    ):\n",
    "        print(event.data.delta, end=\"\", flush=True)"
   ]
  },
  {
   "cell_type": "code",
   "execution_count": null,
   "id": "60c7a77c",
   "metadata": {},
   "outputs": [],
   "source": []
  },
  {
   "cell_type": "markdown",
   "id": "d5ab1047",
   "metadata": {},
   "source": [
    "_Good Job!_"
   ]
  },
  {
   "cell_type": "markdown",
   "id": "75e7c0c8",
   "metadata": {},
   "source": []
  }
 ],
 "metadata": {
  "kernelspec": {
   "display_name": "Python 3",
   "language": "python",
   "name": "python3"
  },
  "language_info": {
   "codemirror_mode": {
    "name": "ipython",
    "version": 3
   },
   "file_extension": ".py",
   "mimetype": "text/x-python",
   "name": "python",
   "nbconvert_exporter": "python",
   "pygments_lexer": "ipython3",
   "version": "3.13.5"
  }
 },
 "nbformat": 4,
 "nbformat_minor": 5
}
