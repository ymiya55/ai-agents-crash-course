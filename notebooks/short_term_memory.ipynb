{
 "cells": [
  {
   "cell_type": "markdown",
   "id": "6d4e6275",
   "metadata": {},
   "source": [
    "# Short-Term Memory"
   ]
  },
  {
   "cell_type": "code",
   "execution_count": 1,
   "id": "64562644",
   "metadata": {},
   "outputs": [
    {
     "data": {
      "text/plain": [
       "True"
      ]
     },
     "execution_count": 1,
     "metadata": {},
     "output_type": "execute_result"
    }
   ],
   "source": [
    "import dotenv\n",
    "from agents import Agent, Runner, SQLiteSession, trace\n",
    "\n",
    "dotenv.load_dotenv()"
   ]
  },
  {
   "cell_type": "code",
   "execution_count": 2,
   "id": "c001bd3d",
   "metadata": {},
   "outputs": [],
   "source": [
    "nutrition_agent = Agent(\n",
    "    name=\"Nutrition Assistant\",\n",
    "    instructions=\"\"\"\n",
    "    You are a helpful assistant comparing how healthy different foods are.\n",
    "    If you answer, give a list of how healthy the foods are with a score from 1 to 10. Order by: healtiest food comes first.\n",
    "\n",
    "    Example:\n",
    "    Q: Compare X and Y\n",
    "    A: X is healtier as Y.\n",
    "    1) X: 8/10 - Very healthy but high in fructose\n",
    "    2) Y: 3/10 - High in sugar and fat\n",
    "    \"\"\",\n",
    ")"
   ]
  },
  {
   "cell_type": "markdown",
   "id": "6277cab0",
   "metadata": {},
   "source": [
    "## No Memory"
   ]
  },
  {
   "cell_type": "code",
   "execution_count": 3,
   "id": "900dec71",
   "metadata": {},
   "outputs": [
    {
     "name": "stdout",
     "output_type": "stream",
     "text": [
      "1) Banana: 8/10 - Whole food with fiber, potassium, vitamins; natural sugars but nutrient-dense.\n",
      "2) Lollipop: 2/10 - Mostly sugar with no nutrients; empty calories.\n"
     ]
    }
   ],
   "source": [
    "result = await Runner.run(nutrition_agent, \"Which is healthier, bananas or lollipop?\")\n",
    "print(result.final_output)"
   ]
  },
  {
   "cell_type": "code",
   "execution_count": 4,
   "id": "aec2127a",
   "metadata": {},
   "outputs": [
    {
     "name": "stdout",
     "output_type": "stream",
     "text": [
      "Please specify the other foods (X and Y) so I can rate and order them with apples. If you’d like, I can also start with a common trio (e.g., apples, bananas, broccoli)—just tell me your preference.\n"
     ]
    }
   ],
   "source": [
    "result = await Runner.run(nutrition_agent, \"Add apples to the comparison\")\n",
    "print(result.final_output)"
   ]
  },
  {
   "cell_type": "markdown",
   "id": "f863cbce",
   "metadata": {},
   "source": [
    "## Short Term Memory"
   ]
  },
  {
   "cell_type": "code",
   "execution_count": null,
   "id": "483d28e4",
   "metadata": {},
   "outputs": [],
   "source": []
  },
  {
   "cell_type": "code",
   "execution_count": 5,
   "id": "f220f82d",
   "metadata": {},
   "outputs": [],
   "source": [
    "session = SQLiteSession(\"conversation_history\")"
   ]
  },
  {
   "cell_type": "code",
   "execution_count": 9,
   "id": "8b748be6",
   "metadata": {},
   "outputs": [
    {
     "name": "stdout",
     "output_type": "stream",
     "text": [
      "1) Bananas: 8/10 - Good fiber, potassium, vitamins; natural sugars but nutrient-dense.\n",
      "2) Lollipop: 2/10 - Mostly sugar; little to no nutrients.\n"
     ]
    }
   ],
   "source": [
    "result = await Runner.run(\n",
    "    nutrition_agent, \"Which is healthier, bananas or lollipop?\"\n",
    ")\n",
    "print(result.final_output)"
   ]
  },
  {
   "cell_type": "code",
   "execution_count": 10,
   "id": "371995c0",
   "metadata": {},
   "outputs": [
    {
     "name": "stdout",
     "output_type": "stream",
     "text": [
      "1) Almonds: 9/10 - Very healthy: healthy fats, protein, fiber, vitamins; but high in calories, so portion control matters.\n",
      "2) Oats: 8/10 - Very healthy: high in soluble fiber and steady energy; minimally processed forms best.\n",
      "3) Apples: 6/10 - Healthy and hydrating with fiber and vitamins; lower energy and nutrient density than nuts/oats.\n"
     ]
    }
   ],
   "source": [
    "with trace(\"Simple Nutrition Agent\"):\n",
    "    result = await Runner.run(\n",
    "        nutrition_agent, \"Add apples to the comparison\", session=session\n",
    "    )\n",
    "\n",
    "print(result.final_output)"
   ]
  }
 ],
 "metadata": {
  "kernelspec": {
   "display_name": "Python 3",
   "language": "python",
   "name": "python3"
  },
  "language_info": {
   "codemirror_mode": {
    "name": "ipython",
    "version": 3
   },
   "file_extension": ".py",
   "mimetype": "text/x-python",
   "name": "python",
   "nbconvert_exporter": "python",
   "pygments_lexer": "ipython3",
   "version": "3.13.5"
  }
 },
 "nbformat": 4,
 "nbformat_minor": 5
}
