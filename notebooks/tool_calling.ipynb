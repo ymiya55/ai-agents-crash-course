{
 "cells": [
  {
   "cell_type": "markdown",
   "id": "75c809c1",
   "metadata": {},
   "source": [
    "# Tool Calling"
   ]
  },
  {
   "cell_type": "code",
   "execution_count": 1,
   "id": "3b442449",
   "metadata": {},
   "outputs": [
    {
     "data": {
      "text/plain": [
       "True"
      ]
     },
     "execution_count": 1,
     "metadata": {},
     "output_type": "execute_result"
    }
   ],
   "source": [
    "import dotenv\n",
    "from agents import Agent, ModelSettings, Runner, function_tool, trace\n",
    "\n",
    "dotenv.load_dotenv()"
   ]
  },
  {
   "cell_type": "markdown",
   "id": "69af3322",
   "metadata": {},
   "source": [
    "Create a static calorie table that we can use as a tool:"
   ]
  },
  {
   "cell_type": "code",
   "execution_count": 5,
   "id": "fe2a2850",
   "metadata": {},
   "outputs": [],
   "source": [
    "@function_tool\n",
    "def get_food_calories(food_item: str) -> str:\n",
    "    \"\"\"\n",
    "    Get calorie information for common foods to help with nutrition tracking.\n",
    "\n",
    "    Args:\n",
    "        food_item: Name of the food (e.g., \"apple\", \"banana\")\n",
    "\n",
    "    Returns:\n",
    "        Calorie information per standard serving\n",
    "    \"\"\"\n",
    "    # Simple calorie database - in real world, you'd use USDA API\n",
    "    calorie_data = {\n",
    "        \"apple\": \"80 calories per medium apple (182g)\",\n",
    "        \"banana\": \"105 calories per medium banana (118g)\",\n",
    "        \"broccoli\": \"25 calories per 1 cup chopped (91g)\",\n",
    "        \"almonds\": \"164 calories per 1oz (28g) or about 23 nuts\",\n",
    "    }\n",
    "\n",
    "    food_key = food_item.lower()\n",
    "    if food_key in calorie_data:\n",
    "        return f\"{food_item.title()}: {calorie_data[food_key]}\"\n",
    "    else:\n",
    "        return f\"I don't have calorie data for {food_item} in my database. Try common foods like apple, chicken breast, or rice.\""
   ]
  },
  {
   "cell_type": "markdown",
   "id": "a7f68e79",
   "metadata": {},
   "source": [
    "Let's test this out: \n",
    "\n",
    "_The following cell only works before you add the `@function_tool` annotation to `get_food_calories` function_"
   ]
  },
  {
   "cell_type": "code",
   "execution_count": 7,
   "id": "7f9484c8",
   "metadata": {},
   "outputs": [],
   "source": [
    "#get_food_calories('grapes')"
   ]
  },
  {
   "cell_type": "code",
   "execution_count": 11,
   "id": "1fe172e2",
   "metadata": {},
   "outputs": [],
   "source": [
    "calorie_agent = Agent(\n",
    "    name=\"Nutrition Assistant\",\n",
    "    instructions=\"\"\"\n",
    "    You are a helpful nutrition assistant giving out calorie information.\n",
    "    You give concise answers.\n",
    "    Use the get_food_calories for retrieving calorie information.\n",
    "    \"\"\",\n",
    "    tools=[get_food_calories])"
   ]
  },
  {
   "cell_type": "code",
   "execution_count": 13,
   "id": "1705b2fc",
   "metadata": {},
   "outputs": [
    {
     "name": "stdout",
     "output_type": "stream",
     "text": [
      "Apple: about 80 kcal per medium apple.  \n",
      "Chicken: data not available in my DB. For a typical 3 oz (85 g) cooked chicken breast: ~165 kcal.\n",
      "\n",
      "So approximate total: 165 + 80 = ~245 kcal.  \n",
      "Tell me the chicken cut and cooking method if you want a precise total.\n"
     ]
    }
   ],
   "source": [
    "with trace(\"Nutrition Assistant with tools\"):\n",
    "    result = await Runner.run(\n",
    "        calorie_agent, \"How many calories are in total in a chiken and an apple?\"\n",
    "    )\n",
    "    print(result.final_output)"
   ]
  },
  {
   "cell_type": "markdown",
   "id": "00283275",
   "metadata": {},
   "source": [
    "Enforce tools use:"
   ]
  },
  {
   "cell_type": "code",
   "execution_count": null,
   "id": "26940407",
   "metadata": {},
   "outputs": [],
   "source": [
    "calorie_agent = Agent(\n",
    "    name=\"Nutrition Assistant\",\n",
    "    instructions=\"\"\"\n",
    "    You are a helpful nutrition assistant giving out calorie information.\n",
    "    You give concise answers.\n",
    "    \"\"\",\n",
    "    tools=[get_food_calories],\n",
    "    model_settings=ModelSettings(tool_choice=\"get_food_calories\"),\n",
    ")\n",
    "\n",
    "with trace(\"Nutrition Assistant with tools enforced\"):\n",
    "    result = await Runner.run(\n",
    "        calorie_agent, \"How many calories are in total in a banana and an apple?\"\n",
    "    )\n",
    "    print(result.final_output)"
   ]
  }
 ],
 "metadata": {
  "kernelspec": {
   "display_name": "Python 3",
   "language": "python",
   "name": "python3"
  },
  "language_info": {
   "codemirror_mode": {
    "name": "ipython",
    "version": 3
   },
   "file_extension": ".py",
   "mimetype": "text/x-python",
   "name": "python",
   "nbconvert_exporter": "python",
   "pygments_lexer": "ipython3",
   "version": "3.13.5"
  }
 },
 "nbformat": 4,
 "nbformat_minor": 5
}
