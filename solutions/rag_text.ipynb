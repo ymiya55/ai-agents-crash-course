{
 "cells": [
  {
   "cell_type": "markdown",
   "id": "568a95f0",
   "metadata": {},
   "source": [
    "# RAG Exercise Solution"
   ]
  },
  {
   "cell_type": "code",
   "execution_count": 1,
   "id": "3b442449",
   "metadata": {},
   "outputs": [
    {
     "data": {
      "text/plain": [
       "True"
      ]
     },
     "execution_count": 1,
     "metadata": {},
     "output_type": "execute_result"
    }
   ],
   "source": [
    "import dotenv\n",
    "\n",
    "from agents import Agent, Runner, trace, function_tool\n",
    "\n",
    "import chromadb\n",
    "\n",
    "dotenv.load_dotenv()"
   ]
  },
  {
   "cell_type": "markdown",
   "id": "69af3322",
   "metadata": {},
   "source": [
    "Create a static calorie table that we can use as a tool:"
   ]
  },
  {
   "cell_type": "code",
   "execution_count": 2,
   "id": "5cd4f7ad",
   "metadata": {},
   "outputs": [],
   "source": [
    "# We populated the RAG with the data from the data/calories.csv file in the rag_setup.ipynb notebook\n",
    "\n",
    "chroma_client = chromadb.PersistentClient(path=\"../chroma\")\n",
    "calories_db = chroma_client.get_collection(name=\"nutrition_db\")\n",
    "nuntrition_qna_db = chroma_client.get_collection(name=\"nutrition_qna\")"
   ]
  },
  {
   "cell_type": "code",
   "execution_count": 3,
   "id": "fe2a2850",
   "metadata": {},
   "outputs": [],
   "source": [
    "@function_tool\n",
    "def calorie_lookup_tool(query: str, max_results: int = 3) -> str:\n",
    "    \"\"\"\n",
    "    Tool function too look up calorie information.\n",
    "\n",
    "    Args:\n",
    "        query: The food item to look up.\n",
    "        max_results: The maximum number of results to return.\n",
    "\n",
    "    Returns:\n",
    "        A string containing the nutrition information.\n",
    "    \"\"\"\n",
    "\n",
    "    results = calories_db.query(query_texts=[query], n_results=max_results)\n",
    "\n",
    "    if not results[\"documents\"][0]:\n",
    "        return f\"No nutrition information found for: {query}\"\n",
    "\n",
    "    # Format results for the agent\n",
    "    formatted_results = []\n",
    "    for i, doc in enumerate(results[\"documents\"][0]):\n",
    "        metadata = results[\"metadatas\"][0][i]\n",
    "        food_item = metadata[\"food_item\"].title()\n",
    "        calories = metadata[\"calories_per_100g\"]\n",
    "        category = metadata[\"food_category\"].title()\n",
    "\n",
    "        formatted_results.append(\n",
    "            f\"{food_item} ({category}): {calories} calories per 100g\"\n",
    "        )\n",
    "\n",
    "    return \"Nutrition Information:\\n\" + \"\\n\".join(formatted_results)\n",
    "\n",
    "\n",
    "@function_tool\n",
    "def nutrtition_qna_tool(query: str, max_results: int = 3) -> str:\n",
    "    \"\"\"\n",
    "    Tool function too ask a question about nutrition.\n",
    "\n",
    "    Args:\n",
    "        query: The question to ask\n",
    "        max_results: The maximum number of results to return.\n",
    "\n",
    "    Returns:\n",
    "        A string containing the question and the answer related to the query.\n",
    "    \"\"\"\n",
    "\n",
    "    results = nuntrition_qna_db.query(query_texts=[query], n_results=max_results)\n",
    "\n",
    "    if not results[\"documents\"][0]:\n",
    "        return f\"No information found for: {query}\"\n",
    "\n",
    "    # Format results for the agent\n",
    "    formatted_results = []\n",
    "    for i, doc in enumerate(results[\"documents\"][0]):\n",
    "        formatted_results.append(doc)\n",
    "\n",
    "    return \"Related answers to your question:\\n\" + \"\\n\".join(formatted_results)"
   ]
  },
  {
   "cell_type": "code",
   "execution_count": 4,
   "id": "1fe172e2",
   "metadata": {},
   "outputs": [],
   "source": [
    "calorie_agent = Agent(\n",
    "    name=\"Nutrition Assistant\",\n",
    "    instructions=\"\"\"\n",
    "    You are a helpful nutrition assistant giving out calorie information and nutrtion advice    .\n",
    "    You give concise answers.\n",
    "    \n",
    "    If you need to look up calorie information, use the calorie_lookup_tool.\n",
    "    If are asked a question about nutrition, always use the nutrtition_qna_tool first to see if there is an answer in the knowledge base.\n",
    "    \"\"\",\n",
    "    tools=[calorie_lookup_tool, nutrtition_qna_tool],\n",
    ")"
   ]
  },
  {
   "cell_type": "code",
   "execution_count": 6,
   "id": "1705b2fc",
   "metadata": {},
   "outputs": [
    {
     "name": "stdout",
     "output_type": "stream",
     "text": [
      "Here are solid meal choices for pregnancy and typical calorie ranges:\n",
      "\n",
      "- Focus foods: lean proteins (chicken, turkey, eggs, beans, tofu), dairy or fortified alternatives, iron-rich foods (red meat in moderation, lentils, spinach), folate-rich greens, fortified grains, calcium-rich foods, fruits/vegetables, whole grains, and omega-3 sources (fatty fish like salmon; or flax/chia if fish-free). Hydration and fiber are important.\n",
      "\n",
      "- Calorie guidance: most pregnant people benefit from a small daily increase of about 200–300 kcal (varies by trimester and individual needs). Some may need a larger increase—discuss with your clinician.\n",
      "\n",
      "- Sample per-meal calories (rough estimates; adjust to your needs):\n",
      "  - Breakfast: yogurt or fortified dairy + berries + nuts (~300–450 kcal)\n",
      "  - Lunch: lean protein + whole grains + veggies (~450–650 kcal)\n",
      "  - Snack: fruit + nut butter or cheese + whole-grain crackers (~200–300 kcal)\n",
      "  - Dinner: salmon or plant-based omega-3 source + quinoa/brown rice + vegetables (~500–700 kcal)\n",
      "\n",
      "- Example day (rough total ~1500–2100 kcal):  \n",
      "  - Breakfast: Greek yogurt with berries and almonds (~350 kcal)  \n",
      "  - Lunch: grilled chicken quinoa salad with greens and olive oil (~550 kcal)  \n",
      "  - Snack: apple with peanut butter (~250 kcal)  \n",
      "  - Dinner: baked salmon, brown rice, steamed broccoli (~650 kcal)\n",
      "\n",
      "Note: iron, folate, calcium, and vitamin D are especially important. If you have nausea, cravings, or specific dietary restrictions, tailor choices and calories with your healthcare provider.\n"
     ]
    }
   ],
   "source": [
    "with trace(\"Nutrition Assistant with Nutrition and Calorie RAG\"):\n",
    "    result = await Runner.run(\n",
    "        calorie_agent,\n",
    "        \"What are the best meal choices for pregnant women and how many calories do they have?\",\n",
    "    )\n",
    "    print(result.final_output)"
   ]
  }
 ],
 "metadata": {
  "kernelspec": {
   "display_name": "Python 3",
   "language": "python",
   "name": "python3"
  },
  "language_info": {
   "codemirror_mode": {
    "name": "ipython",
    "version": 3
   },
   "file_extension": ".py",
   "mimetype": "text/x-python",
   "name": "python",
   "nbconvert_exporter": "python",
   "pygments_lexer": "ipython3",
   "version": "3.13.5"
  }
 },
 "nbformat": 4,
 "nbformat_minor": 5
}
